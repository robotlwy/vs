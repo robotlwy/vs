{
 "cells": [
  {
   "cell_type": "code",
   "execution_count": 2,
   "metadata": {},
   "outputs": [
    {
     "name": "stdout",
     "output_type": "stream",
     "text": [
      "0\n",
      "1\n",
      "2\n"
     ]
    }
   ],
   "source": [
    "for i in range(10):\n",
    "    print(i)\n",
    "    if(i==2):\n",
    "        break\n",
    "else:\n",
    "    print('end')\n",
    "\n"
   ]
  },
  {
   "cell_type": "code",
   "execution_count": 6,
   "metadata": {},
   "outputs": [
    {
     "name": "stdout",
     "output_type": "stream",
     "text": [
      "0\n",
      "1\n",
      "2\n",
      "3\n",
      "4\n",
      "5\n",
      "6\n",
      "7\n",
      "8\n",
      "9\n",
      "end\n"
     ]
    }
   ],
   "source": [
    "i=0\n",
    "while(i<10):\n",
    "    print(i)\n",
    "    i+=1\n",
    "else:\n",
    "    print('end')\n",
    "\n"
   ]
  },
  {
   "cell_type": "code",
   "execution_count": 7,
   "metadata": {},
   "outputs": [
    {
     "name": "stdout",
     "output_type": "stream",
     "text": [
      "Bad request\n",
      "Not found\n",
      "I'm a teapot\n",
      "Something's wrong with the internet\n"
     ]
    }
   ],
   "source": [
    "def http_error(status):\n",
    "    match status:\n",
    "        case 400:\n",
    "            return \"Bad request\"\n",
    "        case 404:\n",
    "            return \"Not found\"\n",
    "        case 418:\n",
    "            return \"I'm a teapot\"\n",
    "        case _:\n",
    "            return \"Something's wrong with the internet\"\n",
    "print(http_error(400))\n",
    "print(http_error(404))\n",
    "print(http_error(418))\n",
    "print(http_error(420))\n",
    "\n",
    "\n",
    "\n",
    "\n"
   ]
  },
  {
   "cell_type": "code",
   "execution_count": 8,
   "metadata": {},
   "outputs": [
    {
     "name": "stdout",
     "output_type": "stream",
     "text": [
      "Something's wrong with the internet\n"
     ]
    }
   ],
   "source": [
    "print(http_error('40dsfsdf0'))\n"
   ]
  },
  {
   "cell_type": "code",
   "execution_count": 11,
   "metadata": {},
   "outputs": [
    {
     "name": "stdout",
     "output_type": "stream",
     "text": [
      "Origin\n",
      "X-axis at 5\n",
      "Y-axis at 3\n",
      "Point at (4, 3)\n"
     ]
    }
   ],
   "source": [
    "class Point:\n",
    "    __match_args__ = (\"y\", \"x\")\n",
    "\n",
    "    def __init__(self, x, y):\n",
    "        self.x = x\n",
    "        self.y = y\n",
    "\n",
    "# 使用模式匹配来解构 Point 对象\n",
    "def describe_point(point):\n",
    "    match point:\n",
    "        case Point(0, 0):\n",
    "            return \"Origin\"\n",
    "        case Point(0, y):\n",
    "            return f\"Y-axis at {y}\"\n",
    "        case Point(x, 0):\n",
    "            return f\"X-axis at {x}\"\n",
    "        case Point(x, y):\n",
    "            return f\"Point at ({x}, {y})\"\n",
    "        case _:\n",
    "            return \"Unknown point\"\n",
    "\n",
    "# 测试代码\n",
    "p1 = Point(0, 0)\n",
    "p2 = Point(0, 5)\n",
    "p3 = Point(3, 0)\n",
    "p4 = Point(3, 4)\n",
    "\n",
    "print(describe_point(p1))  # Output: Origin\n",
    "print(describe_point(p2))  # Output: Y-axis at 5\n",
    "print(describe_point(p3))  # Output: X-axis at 3\n",
    "print(describe_point(p4))  # Output: Point at (3, 4)"
   ]
  },
  {
   "cell_type": "code",
   "execution_count": 12,
   "metadata": {},
   "outputs": [
    {
     "name": "stdout",
     "output_type": "stream",
     "text": [
      "0 1 1 2 3 5 8 13 21 34 55 89 144 233 377 610 987 1597 \n"
     ]
    }
   ],
   "source": [
    "def fib(n):    # 打印小于 n 的斐波那契数列\n",
    "    \"\"\"Print a Fibonacci series less than n.\"\"\"\n",
    "    a, b = 0, 1\n",
    "    while a < n:\n",
    "        print(a, end=' ')\n",
    "        a, b = b, a+b\n",
    "    print()\n",
    "\n",
    "# 现在调用我们刚定义的函数：\n",
    "fib(2000)"
   ]
  },
  {
   "cell_type": "code",
   "execution_count": 13,
   "metadata": {},
   "outputs": [
    {
     "name": "stdout",
     "output_type": "stream",
     "text": [
      "\n"
     ]
    }
   ],
   "source": [
    "fib(0)"
   ]
  },
  {
   "cell_type": "code",
   "execution_count": 14,
   "metadata": {},
   "outputs": [
    {
     "name": "stdout",
     "output_type": "stream",
     "text": [
      "[1]\n",
      "[1, 2]\n",
      "[1, 2, 3]\n"
     ]
    }
   ],
   "source": [
    "def f(a, L=[]):\n",
    "    L.append(a)\n",
    "    return L\n",
    "\n",
    "print(f(1))\n",
    "print(f(2))\n",
    "print(f(3))"
   ]
  },
  {
   "cell_type": "code",
   "execution_count": 17,
   "metadata": {},
   "outputs": [
    {
     "name": "stdout",
     "output_type": "stream",
     "text": [
      "{'name': 2} 1\n"
     ]
    }
   ],
   "source": [
    "def foo(name, /, **kwds):\n",
    "    print(kwds,name)\n",
    "\n",
    "foo(1, **{'name': 2})"
   ]
  },
  {
   "cell_type": "code",
   "execution_count": 18,
   "metadata": {},
   "outputs": [
    {
     "name": "stdout",
     "output_type": "stream",
     "text": [
      "[0, 1, 2, 3, 4, 5, 6, 7, 8, 9, 10]\n"
     ]
    }
   ],
   "source": [
    "aList=[1,2,3,4,5,6,7,8,9,10]\n",
    "aList.insert(0,0)\n",
    "print(aList)\n"
   ]
  },
  {
   "cell_type": "code",
   "execution_count": 19,
   "metadata": {},
   "outputs": [
    {
     "data": {
      "text/plain": [
       "11"
      ]
     },
     "execution_count": 19,
     "metadata": {},
     "output_type": "execute_result"
    }
   ],
   "source": [
    "len(aList)\n",
    "\n",
    "\n",
    "\n",
    "\n",
    "\n"
   ]
  },
  {
   "cell_type": "code",
   "execution_count": 20,
   "metadata": {},
   "outputs": [
    {
     "name": "stdout",
     "output_type": "stream",
     "text": [
      "[]\n"
     ]
    }
   ],
   "source": [
    "aList.clear()\n",
    "print(aList)\n",
    "\n",
    "\n",
    "\n",
    "\n"
   ]
  },
  {
   "cell_type": "code",
   "execution_count": 22,
   "metadata": {},
   "outputs": [
    {
     "data": {
      "text/plain": [
       "5"
      ]
     },
     "execution_count": 22,
     "metadata": {},
     "output_type": "execute_result"
    }
   ],
   "source": [
    "aList=[1,2,3,4,5,1,1,6,7,8,9,10]\n",
    "aList.index(1,1,7)"
   ]
  },
  {
   "cell_type": "code",
   "execution_count": 23,
   "metadata": {},
   "outputs": [
    {
     "name": "stdout",
     "output_type": "stream",
     "text": [
      "[0, 1, 4, 9, 16, 25, 36, 49, 64, 81] 9\n"
     ]
    }
   ],
   "source": [
    "squares = []\n",
    "for x in range(10):\n",
    "    squares.append(x**2)\n",
    "\n",
    "print(squares,x)"
   ]
  },
  {
   "cell_type": "code",
   "execution_count": 24,
   "metadata": {},
   "outputs": [
    {
     "ename": "NameError",
     "evalue": "name 'a' is not defined",
     "output_type": "error",
     "traceback": [
      "\u001b[31m---------------------------------------------------------------------------\u001b[39m",
      "\u001b[31mNameError\u001b[39m                                 Traceback (most recent call last)",
      "\u001b[36mCell\u001b[39m\u001b[36m \u001b[39m\u001b[32mIn[24]\u001b[39m\u001b[32m, line 3\u001b[39m\n\u001b[32m      1\u001b[39m a = [-\u001b[32m1\u001b[39m, \u001b[32m1\u001b[39m, \u001b[32m66.25\u001b[39m, \u001b[32m333\u001b[39m, \u001b[32m333\u001b[39m, \u001b[32m1234.5\u001b[39m]\n\u001b[32m      2\u001b[39m \u001b[38;5;28;01mdel\u001b[39;00m a\n\u001b[32m----> \u001b[39m\u001b[32m3\u001b[39m \u001b[38;5;28mprint\u001b[39m(\u001b[43ma\u001b[49m)\n",
      "\u001b[31mNameError\u001b[39m: name 'a' is not defined"
     ]
    }
   ],
   "source": [
    "a = [-1, 1, 66.25, 333, 333, 1234.5]\n",
    "del a\n",
    "print(a)"
   ]
  },
  {
   "cell_type": "code",
   "execution_count": 1,
   "metadata": {},
   "outputs": [
    {
     "name": "stdout",
     "output_type": "stream",
     "text": [
      "1 2\n"
     ]
    }
   ],
   "source": [
    "x,y=(1,2)\n",
    "print(x,y)\n",
    "\n",
    "\n",
    "\n",
    "\n"
   ]
  },
  {
   "cell_type": "code",
   "execution_count": 2,
   "metadata": {},
   "outputs": [
    {
     "name": "stdout",
     "output_type": "stream",
     "text": [
      "['c:\\\\Users\\\\saiwe\\\\AppData\\\\Local\\\\Programs\\\\Python\\\\Python313\\\\python313.zip', 'c:\\\\Users\\\\saiwe\\\\AppData\\\\Local\\\\Programs\\\\Python\\\\Python313\\\\DLLs', 'c:\\\\Users\\\\saiwe\\\\AppData\\\\Local\\\\Programs\\\\Python\\\\Python313\\\\Lib', 'c:\\\\Users\\\\saiwe\\\\AppData\\\\Local\\\\Programs\\\\Python\\\\Python313', '', 'C:\\\\Users\\\\saiwe\\\\AppData\\\\Roaming\\\\Python\\\\Python313\\\\site-packages', 'C:\\\\Users\\\\saiwe\\\\AppData\\\\Roaming\\\\Python\\\\Python313\\\\site-packages\\\\win32', 'C:\\\\Users\\\\saiwe\\\\AppData\\\\Roaming\\\\Python\\\\Python313\\\\site-packages\\\\win32\\\\lib', 'C:\\\\Users\\\\saiwe\\\\AppData\\\\Roaming\\\\Python\\\\Python313\\\\site-packages\\\\Pythonwin', 'c:\\\\Users\\\\saiwe\\\\AppData\\\\Local\\\\Programs\\\\Python\\\\Python313\\\\Lib\\\\site-packages']\n"
     ]
    }
   ],
   "source": [
    "import sys\n",
    "print(sys.path)"
   ]
  },
  {
   "cell_type": "code",
   "execution_count": 3,
   "metadata": {},
   "outputs": [
    {
     "name": "stdout",
     "output_type": "stream",
     "text": [
      "942\n",
      "68\n"
     ]
    }
   ],
   "source": [
    "import sys\n",
    "print(len(sys.modules))     # 获取内置模块的数量\n",
    "print(len(sys.builtin_module_names))    # 获取内置包的数量"
   ]
  },
  {
   "cell_type": "code",
   "execution_count": 5,
   "metadata": {},
   "outputs": [
    {
     "name": "stdout",
     "output_type": "stream",
     "text": [
      "['DirEntry', 'EX_OK', 'F_OK', 'GenericAlias', 'Mapping', 'MutableMapping', 'O_APPEND', 'O_BINARY', 'O_CREAT', 'O_EXCL', 'O_NOINHERIT', 'O_RANDOM', 'O_RDONLY', 'O_RDWR', 'O_SEQUENTIAL', 'O_SHORT_LIVED', 'O_TEMPORARY', 'O_TEXT', 'O_TRUNC', 'O_WRONLY', 'P_DETACH', 'P_NOWAIT', 'P_NOWAITO', 'P_OVERLAY', 'P_WAIT', 'PathLike', 'R_OK', 'SEEK_CUR', 'SEEK_END', 'SEEK_SET', 'TMP_MAX', 'W_OK', 'X_OK', '_AddedDllDirectory', '_Environ', '__all__', '__builtins__', '__doc__', '__file__', '__loader__', '__name__', '__package__', '__spec__', '_check_methods', '_execvpe', '_exists', '_exit', '_fspath', '_get_exports_list', '_walk_symlinks_as_files', '_wrap_close', 'abc', 'abort', 'access', 'add_dll_directory', 'altsep', 'chdir', 'chmod', 'close', 'closerange', 'cpu_count', 'curdir', 'defpath', 'device_encoding', 'devnull', 'dup', 'dup2', 'environ', 'error', 'execl', 'execle', 'execlp', 'execlpe', 'execv', 'execve', 'execvp', 'execvpe', 'extsep', 'fchmod', 'fdopen', 'fsdecode', 'fsencode', 'fspath', 'fstat', 'fsync', 'ftruncate', 'get_blocking', 'get_exec_path', 'get_handle_inheritable', 'get_inheritable', 'get_terminal_size', 'getcwd', 'getcwdb', 'getenv', 'getlogin', 'getpid', 'getppid', 'isatty', 'kill', 'lchmod', 'linesep', 'link', 'listdir', 'listdrives', 'listmounts', 'listvolumes', 'lseek', 'lstat', 'makedirs', 'mkdir', 'name', 'open', 'pardir', 'path', 'pathsep', 'pipe', 'popen', 'process_cpu_count', 'putenv', 'read', 'readlink', 'remove', 'removedirs', 'rename', 'renames', 'replace', 'rmdir', 'scandir', 'sep', 'set_blocking', 'set_handle_inheritable', 'set_inheritable', 'spawnl', 'spawnle', 'spawnv', 'spawnve', 'st', 'startfile', 'stat', 'stat_result', 'statvfs_result', 'strerror', 'supports_bytes_environ', 'supports_dir_fd', 'supports_effective_ids', 'supports_fd', 'supports_follow_symlinks', 'symlink', 'sys', 'system', 'terminal_size', 'times', 'times_result', 'truncate', 'umask', 'uname_result', 'unlink', 'unsetenv', 'urandom', 'utime', 'waitpid', 'waitstatus_to_exitcode', 'walk', 'write']\n"
     ]
    }
   ],
   "source": [
    "import os\n",
    "print(dir(os))"
   ]
  },
  {
   "cell_type": "code",
   "execution_count": 9,
   "metadata": {},
   "outputs": [
    {
     "data": {
      "text/plain": [
       "TestResults(failed=0, attempted=1)"
      ]
     },
     "execution_count": 9,
     "metadata": {},
     "output_type": "execute_result"
    }
   ],
   "source": [
    "def average(values):\n",
    "    \"\"\"计算数字列表的算术平均值\n",
    "\n",
    "    >>> print(average([20, 30, 70]))\n",
    "    40.0\n",
    "    \"\"\"\n",
    "    return sum(values) / len(values)\n",
    "\n",
    "import doctest\n",
    "doctest.testmod()   # 自动验证嵌入式测试"
   ]
  },
  {
   "cell_type": "code",
   "execution_count": 15,
   "metadata": {},
   "outputs": [
    {
     "data": {
      "text/plain": [
       "0.0143716000020504"
      ]
     },
     "execution_count": 15,
     "metadata": {},
     "output_type": "execute_result"
    }
   ],
   "source": [
    "from timeit import Timer\n",
    "Timer('t=a; a=b; b=t', 'a=1; b=2').timeit()"
   ]
  },
  {
   "cell_type": "code",
   "execution_count": 20,
   "metadata": {},
   "outputs": [
    {
     "data": {
      "text/plain": [
       "0.7985413999995217"
      ]
     },
     "execution_count": 20,
     "metadata": {},
     "output_type": "execute_result"
    }
   ],
   "source": [
    "import timeit\n",
    "timeit.timeit('\"-\".join(str(n) for n in range(1000))', number=10000)"
   ]
  },
  {
   "cell_type": "code",
   "execution_count": 21,
   "metadata": {},
   "outputs": [
    {
     "name": "stdout",
     "output_type": "stream",
     "text": [
      "1 2\n"
     ]
    }
   ],
   "source": [
    "a,b=1,1\n",
    "a,b=b,a+b\n",
    "print(a,b)"
   ]
  },
  {
   "cell_type": "code",
   "execution_count": 1,
   "metadata": {},
   "outputs": [
    {
     "name": "stdout",
     "output_type": "stream",
     "text": [
      "environ({'ALLUSERSPROFILE': 'C:\\\\ProgramData', 'APPDATA': 'C:\\\\Users\\\\saiwe\\\\AppData\\\\Roaming', 'APPLICATION_INSIGHTS_NO_DIAGNOSTIC_CHANNEL': '1', 'CHROME_CRASHPAD_PIPE_NAME': '\\\\\\\\.\\\\pipe\\\\crashpad_27920_CRFBQMLPHSZLPZCN', 'COMMONPROGRAMFILES': 'C:\\\\Program Files\\\\Common Files', 'COMMONPROGRAMFILES(X86)': 'C:\\\\Program Files (x86)\\\\Common Files', 'COMMONPROGRAMW6432': 'C:\\\\Program Files\\\\Common Files', 'COMPUTERNAME': 'LAPTOP-3EDM5TME', 'COMSPEC': 'C:\\\\Windows\\\\system32\\\\cmd.exe', 'CURSOR_TRACE_ID': 'ac8cf1f2273c4c2aa90316c3bf9f6334', 'DRIVERDATA': 'C:\\\\Windows\\\\System32\\\\Drivers\\\\DriverData', 'EFC_19512': '1', 'ELECTRON_RUN_AS_NODE': '1', 'HOMEDRIVE': 'C:', 'HOMEPATH': '\\\\Users\\\\saiwe', 'JPY_INTERRUPT_EVENT': '4964', 'LOCALAPPDATA': 'C:\\\\Users\\\\saiwe\\\\AppData\\\\Local', 'LOGONSERVER': '\\\\\\\\LAPTOP-3EDM5TME', 'MAVEN_HOME': 'D:\\\\Program Files\\\\Java\\\\apache-maven-3.9.9', 'NODE_PATH': 'D:\\\\Program Files\\\\nvm\\\\node_global\\\\node_modules', 'NUMBER_OF_PROCESSORS': '16', 'NVM_HOME': 'D:\\\\Program Files\\\\nvm', 'NVM_SYMLINK': 'D:\\\\Program Files\\\\nodejs', 'ONEDRIVE': 'C:\\\\Users\\\\saiwe\\\\OneDrive', 'ORIGINAL_XDG_CURRENT_DESKTOP': 'undefined', 'OS': 'Windows_NT', 'PATH': 'c:\\\\Users\\\\saiwe\\\\AppData\\\\Local\\\\Programs\\\\Python\\\\Python313;c:\\\\Users\\\\saiwe\\\\AppData\\\\Roaming\\\\Python\\\\Python313\\\\Scripts;C:\\\\Program Files\\\\Common Files\\\\Oracle\\\\Java\\\\javapath;C:\\\\Windows\\\\System32\\\\HWAudioDriver;C:\\\\Windows\\\\system32;C:\\\\Windows;C:\\\\Windows\\\\System32\\\\Wbem;C:\\\\Windows\\\\System32\\\\WindowsPowerShell\\\\v1.0\\\\;C:\\\\Windows\\\\System32\\\\OpenSSH\\\\;C:\\\\Users\\\\Administrator\\\\AppData\\\\Local\\\\Microsoft\\\\WindowsApps;C:\\\\Program Files\\\\Git\\\\cmd;C:\\\\Program Files (x86)\\\\Tencent\\\\微信web开发者工具\\\\dll;C:\\\\Program Files\\\\Zero Install;D:\\\\Program Files\\\\Java\\\\apache-maven-3.9.9\\\\bin;C:\\\\Program Files\\\\TortoiseGit\\\\bin;C:\\\\Program Files\\\\Calibre2\\\\;c:\\\\Users\\\\saiwe\\\\AppData\\\\Local\\\\Programs\\\\cursor\\\\resources\\\\app\\\\bin;D:\\\\Program Files\\\\nvm;D:\\\\Program Files\\\\nodejs;%NVM_HME%\\\\node_global;D:\\\\Program Files\\\\nvm\\\\node_global\\\\node_modules;C:\\\\Program Files\\\\Common Files\\\\Oracle\\\\Java\\\\javapath;C:\\\\Windows\\\\System32\\\\HWAudioDriver;C:\\\\Windows\\\\system32;C:\\\\Windows;C:\\\\Windows\\\\System32\\\\Wbem;C:\\\\Windows\\\\System32\\\\WindowsPowerShell\\\\v1.0\\\\;C:\\\\Windows\\\\System32\\\\OpenSSH\\\\;C:\\\\Users\\\\Administrator\\\\AppData\\\\Local\\\\Microsoft\\\\WindowsApps;C:\\\\Program Files\\\\Git\\\\cmd;C:\\\\Program Files (x86)\\\\Tencent\\\\\\u03a2��web�����߹���\\\\dll;C:\\\\Program Files\\\\Zero Install;D:\\\\Program Files\\\\Java\\\\apache-maven-3.9.9\\\\bin;C:\\\\Program Files\\\\TortoiseGit\\\\bin;C:\\\\Program Files\\\\Calibre2\\\\;c:\\\\Users\\\\saiwe\\\\AppData\\\\Local\\\\Programs\\\\cursor\\\\resources\\\\app\\\\bin;D:\\\\Program Files\\\\nvm;D:\\\\Program Files\\\\nodejs;%NVM_HME%\\\\node_global;D:\\\\Program Files\\\\nvm\\\\node_global\\\\node_modules;C:\\\\Program Files (x86)\\\\Microsoft\\\\Edge\\\\Application;C:\\\\Program Files (x86)\\\\Tencent\\\\???web?????????\\\\dll;C:\\\\Program Files\\\\nodejs\\\\;C:\\\\Program Files\\\\nodejs\\\\node_modules;C:\\\\Users\\\\saiwe\\\\AppData\\\\Local\\\\Programs\\\\Python\\\\Python313\\\\Scripts\\\\;C:\\\\Users\\\\saiwe\\\\AppData\\\\Local\\\\Programs\\\\Python\\\\Python313\\\\;C:\\\\Users\\\\saiwe\\\\AppData\\\\Local\\\\Microsoft\\\\WindowsApps;C:\\\\Users\\\\saiwe\\\\AppData\\\\Local\\\\P;C:\\\\Program Files\\\\Common Files\\\\Oracle\\\\Java\\\\javapath;C:\\\\Windows\\\\System32\\\\HWAudioDriver;C:\\\\Windows\\\\system32;C:\\\\Windows;C:\\\\Windows\\\\System32\\\\Wbem;C:\\\\Windows\\\\System32\\\\WindowsPowerShell\\\\v1.0\\\\;C:\\\\Windows\\\\System32\\\\OpenSSH\\\\;C:\\\\Users\\\\Administrator\\\\AppData\\\\Local\\\\Microsoft\\\\WindowsApps;C:\\\\Program Files\\\\Git\\\\cmd;C:\\\\Program Files (x86)\\\\Tencent\\\\微信web开发者工具\\\\dll;C:\\\\Program Files\\\\Zero Install;D:\\\\Program Files\\\\Java\\\\apache-maven-3.9.9\\\\bin;C:\\\\Program Files\\\\TortoiseGit\\\\bin;C:\\\\Program Files\\\\Calibre2\\\\;c:\\\\Users\\\\saiwe\\\\AppData\\\\Local\\\\Programs\\\\cursor\\\\resources\\\\app\\\\bin;D:\\\\Program Files\\\\nvm;D:\\\\Program Files\\\\nodejs;%NVM_HME%\\\\node_global;D:\\\\Program Files\\\\nvm\\\\node_global\\\\node_modules;C:\\\\Program Files\\\\Common Files\\\\Oracle\\\\Java\\\\javapath;C:\\\\Windows\\\\System32\\\\HWAudioDriver;C:\\\\Windows\\\\system32;C:\\\\Windows;C:\\\\Windows\\\\System32\\\\Wbem;C:\\\\Windows\\\\System32\\\\WindowsPowerShell\\\\v1.0\\\\;C:\\\\Windows\\\\System32\\\\OpenSSH\\\\;C:\\\\Users\\\\Administrator\\\\AppData\\\\Local\\\\Microsoft\\\\WindowsApps;C:\\\\Program Files\\\\Git\\\\cmd;C:\\\\Program Files (x86)\\\\Tencent\\\\\\u03a2��web�����߹���\\\\dll;C:\\\\Program Files\\\\Zero Install;D:\\\\Program Files\\\\Java\\\\apache-maven-3.9.9\\\\bin;C:\\\\Program Files\\\\TortoiseGit\\\\bin;C:\\\\Program Files\\\\Calibre2\\\\;c:\\\\Users\\\\saiwe\\\\AppData\\\\Local\\\\Programs\\\\cursor\\\\resources\\\\app\\\\bin;D:\\\\Program Files\\\\nvm;D:\\\\Program Files\\\\nodejs;%NVM_HME%\\\\node_global;D:\\\\Program Files\\\\nvm\\\\node_global\\\\node_modules;C:\\\\Program Files (x86)\\\\Microsoft\\\\Edge\\\\Application;C:\\\\Program Files (x86)\\\\Tencent\\\\???web?????????\\\\dll;C:\\\\Program Files\\\\nodejs\\\\;C:\\\\Program Files\\\\nodejs\\\\node_modules;C:\\\\Users\\\\saiwe\\\\AppData\\\\Local\\\\Programs\\\\Python\\\\Python313\\\\Scripts\\\\;C:\\\\Users\\\\saiwe\\\\AppData\\\\Local\\\\Programs\\\\Python\\\\Python313\\\\;C:\\\\Users\\\\saiwe\\\\AppData\\\\Local\\\\Microsoft\\\\WindowsApps;C:\\\\Users\\\\saiwe\\\\AppData\\\\Local\\\\P', 'PATHEXT': '.COM;.EXE;.BAT;.CMD;.VBS;.VBE;.JS;.JSE;.WSF;.WSH;.MSC', 'PROCESSOR_ARCHITECTURE': 'AMD64', 'PROCESSOR_IDENTIFIER': 'Intel64 Family 6 Model 154 Stepping 3, GenuineIntel', 'PROCESSOR_LEVEL': '6', 'PROCESSOR_REVISION': '9a03', 'PROGRAMDATA': 'C:\\\\ProgramData', 'PROGRAMFILES': 'C:\\\\Program Files', 'PROGRAMFILES(X86)': 'C:\\\\Program Files (x86)', 'PROGRAMW6432': 'C:\\\\Program Files', 'PSMODULEPATH': 'C:\\\\Program Files\\\\WindowsPowerShell\\\\Modules;C:\\\\Windows\\\\system32\\\\WindowsPowerShell\\\\v1.0\\\\Modules', 'PUBLIC': 'C:\\\\Users\\\\Public', 'PYDEVD_IPYTHON_COMPATIBLE_DEBUGGING': '1', 'PYTHONIOENCODING': 'UTF8', 'PYTHONUNBUFFERED': '1', 'PYTHON_FROZEN_MODULES': 'on', 'SESSIONNAME': 'Console', 'SYSTEMDRIVE': 'C:', 'SYSTEMROOT': 'C:\\\\Windows', 'TEMP': 'C:\\\\Users\\\\saiwe\\\\AppData\\\\Local\\\\Temp', 'TMP': 'C:\\\\Users\\\\saiwe\\\\AppData\\\\Local\\\\Temp', 'USERDOMAIN': 'LAPTOP-3EDM5TME', 'USERDOMAIN_ROAMINGPROFILE': 'LAPTOP-3EDM5TME', 'USERNAME': 'saiwe', 'USERPROFILE': 'C:\\\\Users\\\\saiwe', 'VSCODE_CODE_CACHE_PATH': 'C:\\\\Users\\\\saiwe\\\\AppData\\\\Roaming\\\\Cursor\\\\CachedData\\\\ae378be9dc2f5f1a6a1a220c6e25f9f03c8d4e10', 'VSCODE_CRASH_REPORTER_PROCESS_TYPE': 'extensionHost', 'VSCODE_CWD': 'C:\\\\Users\\\\saiwe\\\\AppData\\\\Local\\\\Programs\\\\cursor', 'VSCODE_ESM_ENTRYPOINT': 'vs/workbench/api/node/extensionHostProcess', 'VSCODE_HANDLES_UNCAUGHT_ERRORS': 'true', 'VSCODE_IPC_HOOK': '\\\\\\\\.\\\\pipe\\\\fa6394b6-0.46.11-main-sock', 'VSCODE_L10N_BUNDLE_LOCATION': 'file:///c%3A/Users/saiwe/.cursor/extensions/ms-ceintl.vscode-language-pack-zh-hans-1.96.2024121109/translations/extensions/vscode.json-language-features.i18n.json', 'VSCODE_NLS_CONFIG': '{\"userLocale\":\"zh-cn\",\"osLocale\":\"zh-cn\",\"resolvedLanguage\":\"zh-cn\",\"defaultMessagesFile\":\"C:\\\\\\\\Users\\\\\\\\saiwe\\\\\\\\AppData\\\\\\\\Local\\\\\\\\Programs\\\\\\\\cursor\\\\\\\\resources\\\\\\\\app\\\\\\\\out\\\\\\\\nls.messages.json\",\"languagePack\":{\"translationsConfigFile\":\"C:\\\\\\\\Users\\\\\\\\saiwe\\\\\\\\AppData\\\\\\\\Roaming\\\\\\\\Cursor\\\\\\\\clp\\\\\\\\6d6cd612ec0ae3cd32737a6f6b7ad966.zh-cn\\\\\\\\tcf.json\",\"messagesFile\":\"C:\\\\\\\\Users\\\\\\\\saiwe\\\\\\\\AppData\\\\\\\\Roaming\\\\\\\\Cursor\\\\\\\\clp\\\\\\\\6d6cd612ec0ae3cd32737a6f6b7ad966.zh-cn\\\\\\\\ae378be9dc2f5f1a6a1a220c6e25f9f03c8d4e10\\\\\\\\nls.messages.json\",\"corruptMarkerFile\":\"C:\\\\\\\\Users\\\\\\\\saiwe\\\\\\\\AppData\\\\\\\\Roaming\\\\\\\\Cursor\\\\\\\\clp\\\\\\\\6d6cd612ec0ae3cd32737a6f6b7ad966.zh-cn\\\\\\\\corrupted.info\"},\"locale\":\"zh-cn\",\"availableLanguages\":{\"*\":\"zh-cn\"},\"_languagePackId\":\"6d6cd612ec0ae3cd32737a6f6b7ad966.zh-cn\",\"_languagePackSupport\":true,\"_translationsConfigFile\":\"C:\\\\\\\\Users\\\\\\\\saiwe\\\\\\\\AppData\\\\\\\\Roaming\\\\\\\\Cursor\\\\\\\\clp\\\\\\\\6d6cd612ec0ae3cd32737a6f6b7ad966.zh-cn\\\\\\\\tcf.json\",\"_cacheRoot\":\"C:\\\\\\\\Users\\\\\\\\saiwe\\\\\\\\AppData\\\\\\\\Roaming\\\\\\\\Cursor\\\\\\\\clp\\\\\\\\6d6cd612ec0ae3cd32737a6f6b7ad966.zh-cn\",\"_resolvedLanguagePackCoreLocation\":\"C:\\\\\\\\Users\\\\\\\\saiwe\\\\\\\\AppData\\\\\\\\Roaming\\\\\\\\Cursor\\\\\\\\clp\\\\\\\\6d6cd612ec0ae3cd32737a6f6b7ad966.zh-cn\\\\\\\\ae378be9dc2f5f1a6a1a220c6e25f9f03c8d4e10\",\"_corruptedFile\":\"C:\\\\\\\\Users\\\\\\\\saiwe\\\\\\\\AppData\\\\\\\\Roaming\\\\\\\\Cursor\\\\\\\\clp\\\\\\\\6d6cd612ec0ae3cd32737a6f6b7ad966.zh-cn\\\\\\\\corrupted.info\"}', 'VSCODE_PID': '27920', 'VSCODE_PROCESS_TITLE': 'extension-host [1-1]', 'WALLABY_PRODUCTION': 'true', 'WINDIR': 'C:\\\\Windows', 'ZES_ENABLE_SYSMAN': '1', 'PYDEVD_USE_FRAME_EVAL': 'NO', 'TERM': 'xterm-color', 'CLICOLOR': '1', 'FORCE_COLOR': '1', 'CLICOLOR_FORCE': '1', 'PAGER': 'cat', 'GIT_PAGER': 'cat', 'MPLBACKEND': 'module://matplotlib_inline.backend_inline'})\n"
     ]
    }
   ],
   "source": [
    "import os\n"
   ]
  },
  {
   "cell_type": "code",
   "execution_count": 3,
   "metadata": {},
   "outputs": [
    {
     "data": {
      "text/plain": [
       "False"
      ]
     },
     "execution_count": 3,
     "metadata": {},
     "output_type": "execute_result"
    }
   ],
   "source": [
    "all([12,3,34,45,435,0])"
   ]
  },
  {
   "cell_type": "code",
   "execution_count": 4,
   "metadata": {},
   "outputs": [
    {
     "data": {
      "text/plain": [
       "True"
      ]
     },
     "execution_count": 4,
     "metadata": {},
     "output_type": "execute_result"
    }
   ],
   "source": [
    "any([1,0,0,0,0,0,0])"
   ]
  },
  {
   "cell_type": "code",
   "execution_count": 5,
   "metadata": {},
   "outputs": [
    {
     "ename": "SyntaxError",
     "evalue": "invalid syntax (854410386.py, line 1)",
     "output_type": "error",
     "traceback": [
      "  \u001b[36mCell\u001b[39m\u001b[36m \u001b[39m\u001b[32mIn[5]\u001b[39m\u001b[32m, line 1\u001b[39m\n\u001b[31m    \u001b[39m\u001b[31m[,,,,,,]\u001b[39m\n     ^\n\u001b[31mSyntaxError\u001b[39m\u001b[31m:\u001b[39m invalid syntax\n"
     ]
    }
   ],
   "source": [
    "[,,,,,,]"
   ]
  },
  {
   "cell_type": "code",
   "execution_count": 6,
   "metadata": {},
   "outputs": [
    {
     "data": {
      "text/plain": [
       "'1'"
      ]
     },
     "execution_count": 6,
     "metadata": {},
     "output_type": "execute_result"
    }
   ],
   "source": [
    "ascii(1)"
   ]
  },
  {
   "cell_type": "code",
   "execution_count": 8,
   "metadata": {},
   "outputs": [
    {
     "data": {
      "text/plain": [
       "'a'"
      ]
     },
     "execution_count": 8,
     "metadata": {},
     "output_type": "execute_result"
    }
   ],
   "source": [
    "chr(97)"
   ]
  },
  {
   "cell_type": "code",
   "execution_count": null,
   "metadata": {},
   "outputs": [],
   "source": []
  }
 ],
 "metadata": {
  "kernelspec": {
   "display_name": "Python 3",
   "language": "python",
   "name": "python3"
  },
  "language_info": {
   "codemirror_mode": {
    "name": "ipython",
    "version": 3
   },
   "file_extension": ".py",
   "mimetype": "text/x-python",
   "name": "python",
   "nbconvert_exporter": "python",
   "pygments_lexer": "ipython3",
   "version": "3.13.0"
  }
 },
 "nbformat": 4,
 "nbformat_minor": 2
}
