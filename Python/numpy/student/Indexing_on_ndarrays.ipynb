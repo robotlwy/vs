{
 "cells": [
  {
   "cell_type": "code",
   "execution_count": 2,
   "metadata": {},
   "outputs": [],
   "source": [
    "import numpy as np"
   ]
  },
  {
   "cell_type": "markdown",
   "metadata": {},
   "source": [
    "# 基本索引"
   ]
  },
  {
   "cell_type": "code",
   "execution_count": 3,
   "metadata": {},
   "outputs": [
    {
     "data": {
      "text/plain": [
       "(np.int64(9), np.int64(9))"
      ]
     },
     "execution_count": 3,
     "metadata": {},
     "output_type": "execute_result"
    }
   ],
   "source": [
    "np.unravel_index(99,(10,10))"
   ]
  },
  {
   "cell_type": "markdown",
   "metadata": {},
   "source": [
    "单元素索引的工作方式与其他标准 Python 序列完全相同。它从 0 开始，并接受从数组末尾开始索引的负索引。\n",
    "请注意，如果索引数少于维度数的多维数组编制索引，则会得到一个子维数组。例如：\n",
    "\n",
    "需要注意的是，虽然第二种情况效率较低（因为会创建一个新的临时数组，该数组是在第一个索引之后生成的，随后再对其进行第二次索引），但 x[0, 2] 和 x[0][2] 是等价的。\n",
    "\n",
    "NumPy的单元素索引规则与Python其他标准序列类型完全一致：\n",
    "\n",
    "采用0基索引（即第一个元素的下标为0）\n",
    "\n",
    "支持负值索引（-1表示最后一个元素，-2表示倒数第二个，以此类推）\n",
    "\n",
    "多维索引无需分层书写（例如二维数组的x[1,2]完全等效于x[1][2]的写法）\n",
    "\n"
   ]
  },
  {
   "cell_type": "markdown",
   "metadata": {},
   "source": [
    "# 切片和跨步\n",
    "基础切片操作将Python的基础切片概念扩展至N维空间。当obj是以下对象时发生基础切片：\n",
    "\n",
    "1. 切片对象（由中括号内的冒号表示法构造）\n",
    "2. 整数\n",
    "3. 切片对象与整数组成的元组\n",
    "（允许穿插使用省略号...和newaxis对象）\n",
    "\n",
    "核心特性：\n",
    "\n",
    "1. 使用N个整数索引时，返回表示对应元素的数组标量\n",
    "2. 遵循Python的零基索引规则：第i个索引的有效范围是0 ≤ ni < shape[i]\n",
    "3. 负索引表示从数组末尾开始计数（如n_i < 0时等价于n_i + shape[i]）\n",
    "4. 所有基础切片生成的数组都是原数组的视图（view）\n",
    "\n",
    "▌ 重要技术说明：\n",
    "NumPy切片与Python内置序列（字符串/元组/列表）不同，它创建视图而非副本。当从大型数组提取小片段时需特别注意：即使原数组不再使用，提取的小数组仍会保持对原数组内存的引用。此时建议显式调用copy()方法。\n",
    "\n",
    "切片规则体系：\n",
    "1. 标准切片语法i:j:k：\n",
    "- i：起始索引（含）\n",
    "- j：终止索引（不含）\n",
    "- k：步长（默认1）\n",
    "- 选定元素满足：i, i+k, ..., i+(m-1)k（其中m = floor((j-i)/k)+1）\n",
    "\n",
    "2. 缺省值规则：\n",
    "- 当k>0时：i默认为0，j默认为n（该维度长度）\n",
    "- 当k<0时：i默认为n-1，j默认为-1\n",
    "- :等价于::，表示选择该轴所有索引\n",
    "\n",
    "3. 维度处理规则：\n",
    "- 当选择元组对象数小于N时，缺失维度自动补全为:\n",
    "- 整数索引会降低输出维度（效果等同于i:i+1但减少1个维度）"
   ]
  },
  {
   "cell_type": "code",
   "execution_count": 11,
   "metadata": {},
   "outputs": [
    {
     "name": "stdout",
     "output_type": "stream",
     "text": [
      "[1 3 5]\n",
      "[7 6 5 4]\n",
      "[[[4]]]\n"
     ]
    }
   ],
   "source": [
    "x = np.array([0,1,2,3,4,5,6,7,8,9])\n",
    "print(x[1:7:2] ) # array([1, 3, 5])\n",
    "print(x[-3:3:-1]) # array([7, 6, 5, 4])\n",
    "\n",
    "# 多维切片\n",
    "y = np.array([[[1],[2],[3]], [[4],[5],[6]]])\n",
    "print(y[1:3,:1] ) # 保留第1维度，其余全选"
   ]
  },
  {
   "cell_type": "markdown",
   "metadata": {},
   "source": [
    "<b>高级特性：</b>\n",
    "1. 可通过slice()对象动态构建切片：\n",
    "```python\n",
    "# 创建一个示例数组\n",
    "x = np.arange(100).reshape(10, 10)  # 10x10的二维数组\n",
    "\n",
    "# 使用slice对象构造切片\n",
    "obj = (slice(1, 10, 5), slice(None, None, -1))\n",
    "\n",
    "# 执行切片操作\n",
    "result = x[obj]  # 等价于 x[1:10:5, ::-1]\n",
    "```\n",
    "2. 重要限制：\n",
    "- 切片赋值时，右侧值必须与切片形状广播兼容\n",
    "- 不可通过切片操作扩展数组维度"
   ]
  },
  {
   "cell_type": "code",
   "execution_count": 16,
   "metadata": {},
   "outputs": [
    {
     "name": "stdout",
     "output_type": "stream",
     "text": [
      "[[19 18 17 16 15 14 13 12 11 10]\n",
      " [69 68 67 66 65 64 63 62 61 60]]\n"
     ]
    }
   ],
   "source": [
    "# 创建一个示例数组\n",
    "x = np.arange(100).reshape(10, 10)  # 10x10的二维数组\n",
    "\n",
    "# 使用slice对象构造切片\n",
    "obj = (slice(1, 10, 5), slice(None, None, -1))\n",
    "\n",
    "# 执行切片操作\n",
    "result = x[obj]  # 等价于 x[1:10:5, ::-1]\n",
    "\n",
    "print(result)"
   ]
  },
  {
   "cell_type": "code",
   "execution_count": null,
   "metadata": {},
   "outputs": [
    {
     "data": {
      "text/plain": [
       "slice(1, 10, 5)"
      ]
     },
     "execution_count": 15,
     "metadata": {},
     "output_type": "execute_result"
    }
   ],
   "source": []
  },
  {
   "cell_type": "code",
   "execution_count": null,
   "metadata": {},
   "outputs": [],
   "source": []
  }
 ],
 "metadata": {
  "kernelspec": {
   "display_name": "3.11.11",
   "language": "python",
   "name": "python3"
  },
  "language_info": {
   "codemirror_mode": {
    "name": "ipython",
    "version": 3
   },
   "file_extension": ".py",
   "mimetype": "text/x-python",
   "name": "python",
   "nbconvert_exporter": "python",
   "pygments_lexer": "ipython3",
   "version": "3.11.11"
  }
 },
 "nbformat": 4,
 "nbformat_minor": 2
}
